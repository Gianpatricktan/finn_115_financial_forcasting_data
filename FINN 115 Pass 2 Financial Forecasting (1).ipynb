{
 "cells": [
  {
   "cell_type": "code",
   "execution_count": 1,
   "id": "bbaba265",
   "metadata": {},
   "outputs": [],
   "source": [
    "# Simple Linear Regression (Least Squares Point Estimates)"
   ]
  },
  {
   "cell_type": "code",
   "execution_count": 2,
   "id": "0b3df28f",
   "metadata": {},
   "outputs": [],
   "source": [
    "import numpy as np\n",
    "import matplotlib.pyplot as plt\n",
    "\n",
    "from sklearn.linear_model import LinearRegression\n",
    "from sklearn.metrics import mean_squared_error, r2_score\n",
    "import statsmodels.api as sm"
   ]
  },
  {
   "cell_type": "code",
   "execution_count": 3,
   "id": "40346404",
   "metadata": {},
   "outputs": [
    {
     "name": "stdout",
     "output_type": "stream",
     "text": [
      "The slope is 3.4185164835164863.\n",
      "The y-intercept is 5.124999999999979.\n"
     ]
    },
    {
     "data": {
      "text/plain": [
       "Text(0, 0.5, 'Sales Revenues (in billion US$)')"
      ]
     },
     "execution_count": 3,
     "metadata": {},
     "output_type": "execute_result"
    },
    {
     "data": {
      "image/png": "[encoded data removed]",
      "text/plain": [
       "<Figure size 432x288 with 1 Axes>"
      ]
     },
     "metadata": {
      "needs_background": "light"
     },
     "output_type": "display_data"
    }
   ],
   "source": [
    "# x (independent variable) is the period number\n",
    "x = np.array([1,2,3,4,5,6,7,8,9,10,11,12,13])\n",
    "\n",
    "# y (dependent variable) is the revenue in billion US$\n",
    "y = np.array([14.71,16.47,17.74,19.14,20.35,21.42,22.10,23.60,32.10,36.30,43.20,49.70,60.88])\n",
    "\n",
    "# n is the sample size\n",
    "n = np.size(x)\n",
    "\n",
    "\n",
    "# x_mean is the same as x̄\n",
    "x_mean = np.mean(x)\n",
    "\n",
    "# y_mean is the same as ȳ\n",
    "y_mean = np.mean(y)\n",
    "\n",
    "x_mean,y_mean\n",
    "\n",
    "# Formula of SSxy\n",
    "SSxy = np.sum(x*y) - n*x_mean*y_mean\n",
    "\n",
    "# Formula of SSxx\n",
    "SSxx = np.sum(x*x) - n*x_mean*x_mean\n",
    "\n",
    "# Formula of b1 (slope)\n",
    "b1 = (SSxy / SSxx)\n",
    "\n",
    "# Formula of b0 (y-intercept)\n",
    "b0 = y_mean - b1*(x_mean)\n",
    "\n",
    "# Output of the codes\n",
    "print(f'''The slope is {b1}.''') # Slope\n",
    "print(f'''The y-intercept is {b0}.''') # y-intercept\n",
    "\n",
    "# Scatter Plot\n",
    "plt.scatter(x,y)\n",
    "plt.xlabel('Time Period') # Independent Variable: x\n",
    "plt.ylabel('Sales Revenues (in billion US$)') # Dependent Variable: y"
   ]
  },
  {
   "cell_type": "code",
   "execution_count": 4,
   "id": "d87d53f3",
   "metadata": {},
   "outputs": [
    {
     "name": "stdout",
     "output_type": "stream",
     "text": [
      "ŷ = 5.124999999999979 + 3.4185164835164863x\n"
     ]
    },
    {
     "data": {
      "image/png": "[encoded data removed]",
      "text/plain": [
       "<Figure size 432x288 with 1 Axes>"
      ]
     },
     "metadata": {
      "needs_background": "light"
     },
     "output_type": "display_data"
    }
   ],
   "source": [
    "# Prediction of y (same as ŷ)\n",
    "y_pred = b0 + b1*(x)\n",
    "\n",
    "\n",
    "# Creating the scatter plot and the regression line\n",
    "plt.scatter(x, y, color = 'blue') # Actual data\n",
    "plt.plot(x, y_pred, color = 'red') # Predicted data\n",
    "plt.xlabel('Time Period') # Independent Variable: x\n",
    "plt.ylabel('Sales Revenue (in billion US$)') # Dependent Variable: y\n",
    "\n",
    "# Simple Linear Regression Model\n",
    "print(f'''ŷ = {b0} + {b1}x''')"
   ]
  },
  {
   "cell_type": "code",
   "execution_count": 5,
   "id": "7cb7ce98",
   "metadata": {},
   "outputs": [
    {
     "name": "stdout",
     "output_type": "stream",
     "text": [
      "Mean Squared Error: 28.976024809805583\n",
      "R Squared: 0.8495405335651723\n"
     ]
    }
   ],
   "source": [
    "# Analysing the performance of the regression model\n",
    "\n",
    "# Squared Error\n",
    "error = y - y_pred # same as yi - ŷ\n",
    "se = np.sum(error**2)\n",
    "\n",
    "# Mean Squared Error (MSE)\n",
    "mse = (se / n)\n",
    "print(f'''Mean Squared Error: {mse}''')\n",
    "\n",
    "# Root Mean Squared Error\n",
    "rmse = np.sqrt(mse)\n",
    "\n",
    "SSt = np.sum((y - y_mean) ** 2)\n",
    "\n",
    "# R Squared\n",
    "R2 = 1 - (se / SSt)\n",
    "print(f'''R Squared: {R2}''')"
   ]
  },
  {
   "cell_type": "code",
   "execution_count": 6,
   "id": "4cb0ee43",
   "metadata": {},
   "outputs": [
    {
     "name": "stdout",
     "output_type": "stream",
     "text": [
      "Slope: [3.41851648]\n",
      "Intercept: 5.125000000000007\n",
      "MSE: 28.976024809805573\n",
      "R2 Score: 0.8495405335651725\n"
     ]
    }
   ],
   "source": [
    "# Use scikit library to verify the accuracy of the statistical data\n",
    "\n",
    "x = x.reshape(-1, 1)\n",
    "regression_model = LinearRegression()\n",
    "\n",
    "# Fit the data (train the model)\n",
    "regression_model.fit(x, y)\n",
    "\n",
    "# Predict\n",
    "y_predicted = regression_model.predict(x)\n",
    "\n",
    "# Evaluate the Model\n",
    "mse = mean_squared_error(y, y_predicted)\n",
    "\n",
    "rmse = np.sqrt(mean_squared_error(y, y_predicted))\n",
    "r2 = r2_score(y, y_predicted)\n",
    "\n",
    "# Output values\n",
    "print(f'''Slope: {regression_model.coef_}''')\n",
    "print(f'''Intercept: {regression_model.intercept_}''')\n",
    "print(f'''MSE: {mse}''')\n",
    "print(f'''R2 Score: {r2}''')"
   ]
  },
  {
   "cell_type": "code",
   "execution_count": 7,
   "id": "4438b0fa",
   "metadata": {},
   "outputs": [],
   "source": [
    "# Mathematical Analysis\n",
    "\n",
    "# Consider if we create two linear regression lines.\n",
    "# One modelling the sales revenue from time period 1 (2009) to 8 (2016). (Line 1)\n",
    "# Another one modelling the sales revenue from time period 8 (2016) to 13 (2021. (Line 2)\n",
    "\n",
    "# Mathematically, slope_Line_1 < slope_Line_2\n",
    "\n",
    "# What if we model the sales revenue from time period 8 (2016) to 13 (2021) only?"
   ]
  },
  {
   "cell_type": "code",
   "execution_count": 8,
   "id": "26d66b7e",
   "metadata": {},
   "outputs": [
    {
     "name": "stdout",
     "output_type": "stream",
     "text": [
      "The slope is 7.031428571428582.\n",
      "The y-intercept is -32.86666666666678.\n"
     ]
    },
    {
     "data": {
      "text/plain": [
       "Text(0, 0.5, 'Sales Revenues (in billion US$)')"
      ]
     },
     "execution_count": 8,
     "metadata": {},
     "output_type": "execute_result"
    },
    {
     "data": {
      "image/png": "[encoded data removed]",
      "text/plain": [
       "<Figure size 432x288 with 1 Axes>"
      ]
     },
     "metadata": {
      "needs_background": "light"
     },
     "output_type": "display_data"
    }
   ],
   "source": [
    "# x (independent variable) is the period number\n",
    "x = np.array([8,9,10,11,12,13])\n",
    "\n",
    "# y (dependent variable) is the revenue in billion US$\n",
    "y = np.array([23.60,32.10,36.30,43.20,49.70,60.88])\n",
    "\n",
    "# n is the sample size\n",
    "n = np.size(x)\n",
    "\n",
    "\n",
    "# x_mean is the same as x̄\n",
    "x_mean = np.mean(x)\n",
    "\n",
    "# y_mean is the same as ȳ\n",
    "y_mean = np.mean(y)\n",
    "\n",
    "x_mean,y_mean\n",
    "\n",
    "# Formula of SSxy\n",
    "SSxy = np.sum(x*y) - n*x_mean*y_mean\n",
    "\n",
    "# Formula of SSxx\n",
    "SSxx = np.sum(x*x) - n*x_mean*x_mean\n",
    "\n",
    "# Formula of b1 (slope)\n",
    "b1 = (SSxy / SSxx)\n",
    "\n",
    "# Formula of b0 (y-intercept)\n",
    "b0 = y_mean - b1*(x_mean)\n",
    "\n",
    "# Output of the codes\n",
    "print(f'''The slope is {b1}.''') # Slope\n",
    "print(f'''The y-intercept is {b0}.''') # y-intercept\n",
    "\n",
    "# Scatter Plot\n",
    "plt.scatter(x,y)\n",
    "plt.xlabel('Time Period') # Independent Variable: x\n",
    "plt.ylabel('Sales Revenues (in billion US$)') # Dependent Variable: y"
   ]
  },
  {
   "cell_type": "code",
   "execution_count": 9,
   "id": "671fba0b",
   "metadata": {},
   "outputs": [
    {
     "name": "stdout",
     "output_type": "stream",
     "text": [
      "ŷ = -32.86666666666678 + 7.031428571428582x\n"
     ]
    },
    {
     "data": {
      "image/png": "[encoded data removed]",
      "text/plain": [
       "<Figure size 432x288 with 1 Axes>"
      ]
     },
     "metadata": {
      "needs_background": "light"
     },
     "output_type": "display_data"
    }
   ],
   "source": [
    "# Prediction of y (same as ŷ)\n",
    "y_pred = b0 + b1*(x)\n",
    "\n",
    "\n",
    "# Creating the scatter plot and the regression line\n",
    "plt.scatter(x, y, color = 'blue') # Actual data\n",
    "plt.plot(x, y_pred, color = 'red') # Predicted data\n",
    "plt.xlabel('Time Period') # Independent Variable: x\n",
    "plt.ylabel('Sales Revenue (in billion US$)') # Dependent Variable: y\n",
    "\n",
    "# Simple Linear Regression Model\n",
    "print(f'''ŷ = {b0} + {b1}x''')"
   ]
  },
  {
   "cell_type": "code",
   "execution_count": 10,
   "id": "6e632360",
   "metadata": {},
   "outputs": [
    {
     "name": "stdout",
     "output_type": "stream",
     "text": [
      "Mean Squared Error: 2.429841269841269\n",
      "R Squared: 0.9834290652658085\n"
     ]
    }
   ],
   "source": [
    "# Analysing the performance of the regression model\n",
    "\n",
    "# Squared Error\n",
    "error = y - y_pred # same as yi - ŷ\n",
    "se = np.sum(error**2)\n",
    "\n",
    "# Mean Squared Error (MSE)\n",
    "mse = (se / n)\n",
    "print(f'''Mean Squared Error: {mse}''')\n",
    "\n",
    "# Root Mean Squared Error\n",
    "rmse = np.sqrt(mse)\n",
    "\n",
    "SSt = np.sum((y - y_mean) ** 2)\n",
    "\n",
    "# R Squared\n",
    "R2 = 1 - (se / SSt)\n",
    "print(f'''R Squared: {R2}''')"
   ]
  },
  {
   "cell_type": "code",
   "execution_count": 11,
   "id": "b7792abd",
   "metadata": {},
   "outputs": [
    {
     "name": "stdout",
     "output_type": "stream",
     "text": [
      "Slope: [7.03142857]\n",
      "Intercept: -32.86666666666668\n",
      "MSE: 2.4298412698412766\n",
      "R2 Score: 0.9834290652658085\n"
     ]
    }
   ],
   "source": [
    "# Use scikit library to verify the accuracy of the statistical data\n",
    "\n",
    "x = x.reshape(-1, 1)\n",
    "regression_model = LinearRegression()\n",
    "\n",
    "# Fit the data (train the model)\n",
    "regression_model.fit(x, y)\n",
    "\n",
    "# Predict\n",
    "y_predicted = regression_model.predict(x)\n",
    "\n",
    "# Evaluate the Model\n",
    "mse = mean_squared_error(y, y_predicted)\n",
    "\n",
    "rmse = np.sqrt(mean_squared_error(y, y_predicted))\n",
    "r2 = r2_score(y, y_predicted)\n",
    "\n",
    "# Output values\n",
    "print(f'''Slope: {regression_model.coef_}''')\n",
    "print(f'''Intercept: {regression_model.intercept_}''')\n",
    "print(f'''MSE: {mse}''')\n",
    "print(f'''R2 Score: {r2}''')"
   ]
  },
  {
   "cell_type": "code",
   "execution_count": null,
   "id": "8436b1a6",
   "metadata": {},
   "outputs": [],
   "source": []
  }
 ],
 "metadata": {
  "kernelspec": {
   "display_name": "Python 3 (ipykernel)",
   "language": "python",
   "name": "python3"
  },
  "language_info": {
   "codemirror_mode": {
    "name": "ipython",
    "version": 3
   },
   "file_extension": ".py",
   "mimetype": "text/x-python",
   "name": "python",
   "nbconvert_exporter": "python",
   "pygments_lexer": "ipython3",
   "version": "3.9.12"
  }
 },
 "nbformat": 4,
 "nbformat_minor": 5
}
